{
 "cells": [
  {
   "cell_type": "code",
   "execution_count": 38,
   "metadata": {},
   "outputs": [],
   "source": [
    "import time\n",
    "import random\n",
    "\n",
    "from functools import lru_cache\n",
    "from matplotlib import pyplot as plt\n",
    "%matplotlib inline"
   ]
  },
  {
   "cell_type": "code",
   "execution_count": 9,
   "metadata": {},
   "outputs": [],
   "source": [
    "def memo(f):\n",
    "    cache = {}\n",
    "    def inner(n):\n",
    "        if n not in cache:\n",
    "            cache[n] = f(n)\n",
    "        return cache[n]\n",
    "    return inner"
   ]
  },
  {
   "cell_type": "code",
   "execution_count": 17,
   "metadata": {},
   "outputs": [],
   "source": [
    "def fib1(n):\n",
    "    assert n >= 0\n",
    "    return n if n < 2 else fib1(n - 1) + fib1(n - 2)"
   ]
  },
  {
   "cell_type": "code",
   "execution_count": 18,
   "metadata": {},
   "outputs": [],
   "source": [
    "@memo\n",
    "def fib2(n):\n",
    "    assert n >= 0\n",
    "    return n if n < 2 else fib2(n - 1) + fib2(n - 2)"
   ]
  },
  {
   "cell_type": "code",
   "execution_count": 19,
   "metadata": {},
   "outputs": [],
   "source": [
    "@lru_cache(maxsize=None)\n",
    "def fib3(n):\n",
    "    assert n >= 0\n",
    "    return n if n < 2 else fib3(n - 1) + fib3(n - 2)"
   ]
  },
  {
   "cell_type": "code",
   "execution_count": 20,
   "metadata": {},
   "outputs": [],
   "source": [
    "def fib4(n):\n",
    "    assert n >= 0\n",
    "    f0, f1 = 0, 1\n",
    "    for i in range(n - 1):\n",
    "        f0, f1 = f1, f0 + f1\n",
    "    return f1"
   ]
  },
  {
   "cell_type": "code",
   "execution_count": 21,
   "metadata": {},
   "outputs": [],
   "source": [
    "def timed(f, *args, n_iter=100):\n",
    "    acc = float(\"inf\")\n",
    "    for i in range(n_iter):\n",
    "        t0 = time.perf_counter()\n",
    "        f(*args)\n",
    "        t1 = time.perf_counter()\n",
    "        acc = min(acc, t1 - t0)\n",
    "    return acc"
   ]
  },
  {
   "cell_type": "code",
   "execution_count": 29,
   "metadata": {},
   "outputs": [
    {
     "name": "stdout",
     "output_type": "stream",
     "text": [
      "0.0002712000000428816\n",
      "1.9999998812636477e-07\n",
      "9.999996564147295e-08\n",
      "3.099999958067201e-06\n"
     ]
    }
   ],
   "source": [
    "print(timed(fib1, 15))\n",
    "print(timed(fib2, 50))\n",
    "print(timed(fib3, 50))\n",
    "print(timed(fib4, 50))"
   ]
  },
  {
   "cell_type": "code",
   "execution_count": 30,
   "metadata": {},
   "outputs": [],
   "source": [
    "def compare(fs, args):\n",
    "    for f in fs:\n",
    "        plt.plot(args, [timed(f, arg) for arg in args], label=f.__name__)\n",
    "    plt.legend()\n",
    "    plt.grid(True)"
   ]
  },
  {
   "cell_type": "code",
   "execution_count": 37,
   "metadata": {},
   "outputs": [
    {
     "data": {
      "image/png": "[encoded data removed]",
      "text/plain": [
       "<Figure size 432x288 with 1 Axes>"
      ]
     },
     "metadata": {
      "needs_background": "light"
     },
     "output_type": "display_data"
    }
   ],
   "source": [
    "compare([fib2], list(range(0, 1000)))"
   ]
  },
  {
   "cell_type": "markdown",
   "metadata": {},
   "source": [
    "**Now GCD**"
   ]
  },
  {
   "cell_type": "code",
   "execution_count": 39,
   "metadata": {},
   "outputs": [],
   "source": [
    "def test_gcd(gcd, num_iter=100):\n",
    "    for i in range(num_iter):\n",
    "        c = random.randint(0, 1024)\n",
    "        a = c * random.randint(0, 128)\n",
    "        b = c * random.randint(0, 128)\n",
    "        assert gcd(a, a) == gcd(a, 0) == a\n",
    "        assert gcd(b, b) == gcd(b, 0) == b\n",
    "        assert gcd(a, 1) == gcd(b, 1) == 1\n",
    "        d = gcd(a, b)\n",
    "        assert a % d == b % d == 0"
   ]
  },
  {
   "cell_type": "code",
   "execution_count": 46,
   "metadata": {},
   "outputs": [],
   "source": [
    "def gcd_naive(a, b):\n",
    "    assert a >= 0, b >= 0\n",
    "    for d in reversed(range(max(a, b) + 1)):\n",
    "        if d == 0 or a % d == b % d == 0:\n",
    "            return d\n",
    "        "
   ]
  },
  {
   "cell_type": "code",
   "execution_count": 50,
   "metadata": {},
   "outputs": [],
   "source": [
    "test_gcd(gcd_naive)"
   ]
  },
  {
   "cell_type": "code",
   "execution_count": 54,
   "metadata": {},
   "outputs": [],
   "source": [
    "def gcd_eu(a, b):\n",
    "    assert a >= 0 and b>= 0\n",
    "    while a and b:\n",
    "        if a >= b:\n",
    "            a %= b\n",
    "        else:\n",
    "            b %= a\n",
    "    return max(a, b)"
   ]
  },
  {
   "cell_type": "code",
   "execution_count": 56,
   "metadata": {},
   "outputs": [],
   "source": [
    "test_gcd(gcd_eu)"
   ]
  },
  {
   "cell_type": "code",
   "execution_count": 60,
   "metadata": {},
   "outputs": [
    {
     "data": {
      "text/plain": [
       "1"
      ]
     },
     "execution_count": 60,
     "metadata": {},
     "output_type": "execute_result"
    }
   ],
   "source": [
    "gcd_eu(12140214012041024, 24583475938475343)"
   ]
  },
  {
   "cell_type": "code",
   "execution_count": 58,
   "metadata": {},
   "outputs": [],
   "source": [
    "def gcd_req(a, b):\n",
    "    assert a >= 0 and b >= 0\n",
    "    if a == 0 or b == 0:\n",
    "        return max(a, b)\n",
    "    elif a >= b:\n",
    "        return gcd_req(a % b, b)\n",
    "    else:\n",
    "        return gcd_req(a, b % a)"
   ]
  },
  {
   "cell_type": "code",
   "execution_count": 59,
   "metadata": {},
   "outputs": [],
   "source": [
    "test_gcd(gcd_req)"
   ]
  },
  {
   "cell_type": "code",
   "execution_count": 61,
   "metadata": {},
   "outputs": [
    {
     "data": {
      "text/plain": [
       "1"
      ]
     },
     "execution_count": 61,
     "metadata": {},
     "output_type": "execute_result"
    }
   ],
   "source": [
    "gcd_req(12140214012041024, 24583475938475343)"
   ]
  },
  {
   "cell_type": "code",
   "execution_count": 62,
   "metadata": {},
   "outputs": [],
   "source": [
    "def gcd4(a, b):\n",
    "    assert a >= 0 and b >= 0\n",
    "    if a == 0 or b == 0:\n",
    "        return max(a, b)\n",
    "    return gcd4(b % a, a)"
   ]
  },
  {
   "cell_type": "code",
   "execution_count": 63,
   "metadata": {},
   "outputs": [],
   "source": [
    "test_gcd(gcd4)"
   ]
  },
  {
   "cell_type": "code",
   "execution_count": 64,
   "metadata": {},
   "outputs": [
    {
     "data": {
      "text/plain": [
       "1"
      ]
     },
     "execution_count": 64,
     "metadata": {},
     "output_type": "execute_result"
    }
   ],
   "source": [
    "gcd4(12140214012041024, 24583475938475343)"
   ]
  },
  {
   "cell_type": "code",
   "execution_count": null,
   "metadata": {},
   "outputs": [],
   "source": []
  }
 ],
 "metadata": {
  "kernelspec": {
   "display_name": "Python 3",
   "language": "python",
   "name": "python3"
  },
  "language_info": {
   "codemirror_mode": {
    "name": "ipython",
    "version": 3
   },
   "file_extension": ".py",
   "mimetype": "text/x-python",
   "name": "python",
   "nbconvert_exporter": "python",
   "pygments_lexer": "ipython3",
   "version": "3.8.5"
  }
 },
 "nbformat": 4,
 "nbformat_minor": 4
}
